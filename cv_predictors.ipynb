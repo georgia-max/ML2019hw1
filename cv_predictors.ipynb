{
 "cells": [
  {
   "cell_type": "code",
   "execution_count": 1,
   "metadata": {},
   "outputs": [],
   "source": [
    "%load_ext autoreload\n",
    "%autoreload 2\n",
    "%matplotlib inline"
   ]
  },
  {
   "cell_type": "code",
   "execution_count": 2,
   "metadata": {},
   "outputs": [],
   "source": [
    "import numpy as np\n",
    "from decision_tree import calculate_information_gain, decision_tree_train, decision_tree_predict\n",
    "from naive_bayes import naive_bayes_train, naive_bayes_predict\n",
    "from load_all_data import load_all_data\n",
    "from crossval import cross_validate\n",
    "import random\n",
    "import matplotlib.pyplot as plt"
   ]
  },
  {
   "cell_type": "code",
   "execution_count": 3,
   "metadata": {},
   "outputs": [
    {
     "name": "stdout",
     "output_type": "stream",
     "text": [
      "Found pickle file. Loading 20news data from file.\n",
      "Doing so should be faster than loading from raw text, but if the file is corrupted, delete it and this script will automatically load from the raw text next time it is run.\n",
      "Finished loading in 0.03 seconds.\n"
     ]
    }
   ],
   "source": [
    "num_words, num_training, num_testing, train_data, test_data, train_labels, test_labels = load_all_data()"
   ]
  },
  {
   "cell_type": "code",
   "execution_count": 4,
   "metadata": {},
   "outputs": [],
   "source": [
    "d = 5000 # maximum number of features"
   ]
  },
  {
   "cell_type": "code",
   "execution_count": 5,
   "metadata": {},
   "outputs": [
    {
     "name": "stdout",
     "output_type": "stream",
     "text": [
      "[6.89207785e-03 5.72929455e-03 2.35420535e-02 ... 1.76640647e-12\n",
      " 1.76640647e-12 1.76640647e-12]\n"
     ]
    }
   ],
   "source": [
    "# Filter features by information gain\n",
    "\n",
    "gain = calculate_information_gain(train_data, train_labels)\n",
    "\n",
    "print(gain)\n",
    "\n",
    "# sort features by calculated information gain\n",
    "ranks = gain.argsort()[::-1]\n",
    "\n",
    "train_data = train_data[ranks[:d], :]\n",
    "test_data = test_data[ranks[:d], :]\n",
    "\n",
    "# convert training data to dense ndarray\n",
    "train_data = train_data.toarray()\n",
    "test_data = test_data.toarray()"
   ]
  },
  {
   "cell_type": "code",
   "execution_count": 6,
   "metadata": {},
   "outputs": [],
   "source": [
    "# randomly shuffle data\n",
    "\n",
    "order = list(range(num_training))\n",
    "random.shuffle(order)\n",
    "\n",
    "train_data = train_data[:, order]\n",
    "train_labels = train_labels[order]"
   ]
  },
  {
   "cell_type": "code",
   "execution_count": 7,
   "metadata": {},
   "outputs": [],
   "source": [
    "# Try naive Bayes with cross-validation\n",
    "\n",
    "alpha_values = 10.0 ** np.array(range(-10,0))\n",
    "\n",
    "cv_score = np.zeros(alpha_values.size)\n",
    "\n",
    "params = dict()\n",
    "\n",
    "for i in range(alpha_values.size):\n",
    "    params['alpha'] = alpha_values[i]\n",
    "    cv_score[i], _ = cross_validate(naive_bayes_train, naive_bayes_predict, \n",
    "                                    train_data, train_labels, 8, params)"
   ]
  },
  {
   "cell_type": "code",
   "execution_count": 8,
   "metadata": {},
   "outputs": [
    {
     "data": {
      "text/plain": [
       "Text(0.5, 1.0, 'Naive Bayes Cross-Validation Accuracy')"
      ]
     },
     "execution_count": 8,
     "metadata": {},
     "output_type": "execute_result"
    },
    {
     "data": {
      "image/png": "[encoded data removed]",
      "text/plain": [
       "<Figure size 432x288 with 1 Axes>"
      ]
     },
     "metadata": {
      "needs_background": "light"
     },
     "output_type": "display_data"
    }
   ],
   "source": [
    "plt.semilogx(alpha_values, cv_score)\n",
    "plt.xlabel('alpha')\n",
    "plt.ylabel('CV Accuracy')\n",
    "plt.title('Naive Bayes Cross-Validation Accuracy')"
   ]
  },
  {
   "cell_type": "code",
   "execution_count": 9,
   "metadata": {},
   "outputs": [
    {
     "name": "stdout",
     "output_type": "stream",
     "text": [
      "num_of_classes 20\n",
      "prior_smoothed, sum(prior_smoothed) , size\n",
      "[0.043 0.052 0.051 0.052 0.051 0.053 0.052 0.053 0.053 0.053 0.053 0.053\n",
      " 0.052 0.053 0.053 0.053 0.048 0.05  0.041 0.033] 0.9999999999999999 20\n",
      "prior_smoothed_loged\n",
      " [-3.156 -2.965 -2.981 -2.955 -2.975 -2.946 -2.963 -2.946 -2.94  -2.943\n",
      " -2.936 -2.943 -2.948 -2.943 -2.945 -2.935 -3.029 -2.995 -3.19  -3.4  ]\n",
      "Calculating column_sum, label: 0\n",
      "Calculating column_sum, label: 1\n",
      "Calculating column_sum, label: 2\n",
      "Calculating column_sum, label: 3\n",
      "Calculating column_sum, label: 4\n",
      "Calculating column_sum, label: 5\n",
      "Calculating column_sum, label: 6\n",
      "Calculating column_sum, label: 7\n",
      "Calculating column_sum, label: 8\n",
      "Calculating column_sum, label: 9\n",
      "Calculating column_sum, label: 10\n",
      "Calculating column_sum, label: 11\n",
      "Calculating column_sum, label: 12\n",
      "Calculating column_sum, label: 13\n",
      "Calculating column_sum, label: 14\n",
      "Calculating column_sum, label: 15\n",
      "Calculating column_sum, label: 16\n",
      "Calculating column_sum, label: 17\n",
      "Calculating column_sum, label: 18\n",
      "Calculating column_sum, label: 19\n",
      "cond_count\n",
      " [[168   7   3 ...  23  21 126]\n",
      " [  0  57 365 ...   5   6   0]\n",
      " [  0   0   6 ...   0   2   1]\n",
      " ...\n",
      " [  0   1   0 ...   3   4   0]\n",
      " [  2   1  10 ...  10   1   1]\n",
      " [  0   0   0 ...   0   0   9]] (5000, 20)\n",
      "cond_prob_smoothed\n",
      " [[3.500e-01 1.205e-02 5.245e-03 ... 4.078e-02 4.526e-02 3.351e-01]\n",
      " [2.083e-13 9.811e-02 6.381e-01 ... 8.865e-03 1.293e-02 2.660e-13]\n",
      " [2.083e-13 1.721e-13 1.049e-02 ... 1.773e-13 4.310e-03 2.660e-03]\n",
      " ...\n",
      " [2.083e-13 1.721e-03 1.748e-13 ... 5.319e-03 8.621e-03 2.660e-13]\n",
      " [4.167e-03 1.721e-03 1.748e-02 ... 1.773e-02 2.155e-03 2.660e-03]\n",
      " [2.083e-13 1.721e-13 1.748e-13 ... 1.773e-13 2.155e-13 2.394e-02]] (5000, 20)\n",
      "prior shape (20,)\n",
      "cond_prob shape (5000, 20)\n"
     ]
    }
   ],
   "source": [
    "# Train on full data with best alpha value\n",
    "\n",
    "best_alpha_index = cv_score.argmax()\n",
    "\n",
    "params['alpha'] = alpha_values[best_alpha_index]\n",
    "\n",
    "nb_model = naive_bayes_train(train_data, train_labels, params)"
   ]
  },
  {
   "cell_type": "code",
   "execution_count": 10,
   "metadata": {},
   "outputs": [
    {
     "name": "stdout",
     "output_type": "stream",
     "text": [
      "data\n",
      " [[ True  True False ... False False False]\n",
      " [False False False ... False False  True]\n",
      " [False False False ... False False False]\n",
      " ...\n",
      " [False False False ... False False False]\n",
      " [False False False ... False False False]\n",
      " [False False False ... False False False]]\n",
      "data_bar\n",
      " [[0 0 1 ... 1 1 1]\n",
      " [1 1 1 ... 1 1 0]\n",
      " [1 1 1 ... 1 1 1]\n",
      " ...\n",
      " [1 1 1 ... 1 1 1]\n",
      " [1 1 1 ... 1 1 1]\n",
      " [1 1 1 ... 1 1 1]]\n",
      "cond prob\n",
      " [[3.500e-01 1.205e-02 5.245e-03 ... 4.078e-02 4.526e-02 3.351e-01]\n",
      " [2.083e-13 9.811e-02 6.381e-01 ... 8.865e-03 1.293e-02 2.660e-13]\n",
      " [2.083e-13 1.721e-13 1.049e-02 ... 1.773e-13 4.310e-03 2.660e-03]\n",
      " ...\n",
      " [2.083e-13 1.721e-03 1.748e-13 ... 5.319e-03 8.621e-03 2.660e-13]\n",
      " [4.167e-03 1.721e-03 1.748e-02 ... 1.773e-02 2.155e-03 2.660e-03]\n",
      " [2.083e-13 1.721e-13 1.748e-13 ... 1.773e-13 2.155e-13 2.394e-02]]\n",
      "cond prob shape (5000, 20)\n",
      "cond_prob_bar\n",
      " [[0.65  0.988 0.995 ... 0.959 0.955 0.665]\n",
      " [1.    0.902 0.362 ... 0.991 0.987 1.   ]\n",
      " [1.    1.    0.99  ... 1.    0.996 0.997]\n",
      " ...\n",
      " [1.    0.998 1.    ... 0.995 0.991 1.   ]\n",
      " [0.996 0.998 0.983 ... 0.982 0.998 0.997]\n",
      " [1.    1.    1.    ... 1.    1.    0.976]]\n",
      "cond_prob_bar shape (5000, 20)\n",
      "data\n",
      " [[ True  True False ... False False False]\n",
      " [False False False ... False False  True]\n",
      " [False False False ... False False False]\n",
      " ...\n",
      " [False False False ... False False False]\n",
      " [False False False ... False False False]\n",
      " [False False False ... False False False]] (5000, 7505)\n",
      "data slice\n",
      " [[ True]\n",
      " [False]\n",
      " [False]\n",
      " ...\n",
      " [False]\n",
      " [False]\n",
      " [False]] (5000, 1)\n",
      "data mask\n",
      " [[ True  True  True ...  True  True  True]\n",
      " [False False False ... False False False]\n",
      " [False False False ... False False False]\n",
      " ...\n",
      " [False False False ... False False False]\n",
      " [False False False ... False False False]\n",
      " [False False False ... False False False]] (5000, 20)\n",
      "data mask bar\n",
      " [[0 0 0 ... 0 0 0]\n",
      " [1 1 1 ... 1 1 1]\n",
      " [1 1 1 ... 1 1 1]\n",
      " ...\n",
      " [1 1 1 ... 1 1 1]\n",
      " [1 1 1 ... 1 1 1]\n",
      " [1 1 1 ... 1 1 1]] (5000, 20)\n",
      "cond_prob_masked\n",
      " [[0.35  0.012 0.005 ... 0.041 0.045 0.335]\n",
      " [0.    0.    0.    ... 0.    0.    0.   ]\n",
      " [0.    0.    0.    ... 0.    0.    0.   ]\n",
      " ...\n",
      " [0.    0.    0.    ... 0.    0.    0.   ]\n",
      " [0.    0.    0.    ... 0.    0.    0.   ]\n",
      " [0.    0.    0.    ... 0.    0.    0.   ]]\n",
      "cond prob bar masked\n",
      " [[0.    0.    0.    ... 0.    0.    0.   ]\n",
      " [1.    0.902 0.362 ... 0.991 0.987 1.   ]\n",
      " [1.    1.    0.99  ... 1.    0.996 0.997]\n",
      " ...\n",
      " [1.    0.998 1.    ... 0.995 0.991 1.   ]\n",
      " [0.996 0.998 0.983 ... 0.982 0.998 0.997]\n",
      " [1.    1.    1.    ... 1.    1.    0.976]]\n",
      "add_cond_prob\n",
      " [[0.35  0.012 0.005 ... 0.041 0.045 0.335]\n",
      " [1.    0.902 0.362 ... 0.991 0.987 1.   ]\n",
      " [1.    1.    0.99  ... 1.    0.996 0.997]\n",
      " ...\n",
      " [1.    0.998 1.    ... 0.995 0.991 1.   ]\n",
      " [0.996 0.998 0.983 ... 0.982 0.998 0.997]\n",
      " [1.    1.    1.    ... 1.    1.    0.976]]\n",
      "loged\n",
      " [[-1.050e+00 -4.419e+00 -5.251e+00 ... -3.200e+00 -3.095e+00 -1.093e+00]\n",
      " [-2.083e-13 -1.033e-01 -1.016e+00 ... -8.905e-03 -1.302e-02 -2.660e-13]\n",
      " [-2.083e-13 -1.721e-13 -1.054e-02 ... -1.773e-13 -4.320e-03 -2.663e-03]\n",
      " ...\n",
      " [-2.083e-13 -1.723e-03 -1.749e-13 ... -5.333e-03 -8.658e-03 -2.660e-13]\n",
      " [-4.175e-03 -1.723e-03 -1.764e-02 ... -1.789e-02 -2.157e-03 -2.663e-03]\n",
      " [-2.083e-13 -1.721e-13 -1.749e-13 ... -1.773e-13 -2.155e-13 -2.423e-02]]\n",
      "cond_prob sum [-337.335 -664.414 -720.675 -710.714 -697.403 -689.841 -697.298 -516.6\n",
      " -599.885 -673.249 -632.635 -546.339 -702.443 -529.915 -580.461 -373.466\n",
      " -482.971 -474.538 -476.298 -378.052] (20,)\n",
      "prior_prob\n",
      " [0.043 0.052 0.051 0.052 0.051 0.053 0.052 0.053 0.053 0.053 0.053 0.053\n",
      " 0.052 0.053 0.053 0.053 0.048 0.05  0.041 0.033] (20,)\n",
      "posterior\n",
      " [-340.491 -667.379 -723.655 -713.669 -700.378 -692.787 -700.261 -519.546\n",
      " -602.825 -676.192 -635.572 -549.282 -705.391 -532.858 -583.405 -376.401\n",
      " -486.    -477.533 -479.488 -381.453]\n",
      "class\n",
      " 0.0\n",
      "[ 0.  0.  0. 15.  0.  0.  0.  0.  0.  0.  0. 19.  0.  0.  0. 15.  0.  0.\n",
      " 15.  0.]\n",
      "Naive Bayes testing accuracy: 0.669021\n"
     ]
    }
   ],
   "source": [
    "# Compute testing accuracy\n",
    "\n",
    "nb_predictions = naive_bayes_predict(test_data, nb_model)\n",
    "\n",
    "nb_accuracy = np.mean(nb_predictions == test_labels)\n",
    "\n",
    "print(\"Naive Bayes testing accuracy: %f\" % nb_accuracy)"
   ]
  },
  {
   "cell_type": "code",
   "execution_count": 11,
   "metadata": {},
   "outputs": [],
   "source": [
    "# prune data to even smaller (since decision tree takes much longer to train)\n",
    "\n",
    "d = 250\n",
    "\n",
    "train_data_small = train_data[:d, :]\n",
    "test_data_small = test_data[:d, :]"
   ]
  },
  {
   "cell_type": "code",
   "execution_count": 12,
   "metadata": {},
   "outputs": [],
   "source": [
    "depth_values = np.array([2, 4, 8, 16, 32, 64])\n",
    "\n",
    "cv_score = np.zeros(depth_values.size)\n",
    "\n",
    "params = dict()\n",
    "\n",
    "for i in range(depth_values.size):\n",
    "    params['max_depth'] = depth_values[i]\n",
    "    cv_score[i], _ = cross_validate(decision_tree_train, decision_tree_predict, \n",
    "                                 train_data_small, train_labels, 3, params)"
   ]
  },
  {
   "cell_type": "code",
   "execution_count": 15,
   "metadata": {},
   "outputs": [
    {
     "data": {
      "text/plain": [
       "Text(0.5, 1.0, 'Decision Tree Cross-Validation Accuracy')"
      ]
     },
     "execution_count": 15,
     "metadata": {},
     "output_type": "execute_result"
    },
    {
     "data": {
      "image/png": "[encoded data removed]",
      "text/plain": [
       "<Figure size 432x288 with 1 Axes>"
      ]
     },
     "metadata": {
      "needs_background": "light"
     },
     "output_type": "display_data"
    }
   ],
   "source": [
    "plt.plot(depth_values, cv_score)\n",
    "plt.xlabel('Max Depth')\n",
    "plt.ylabel('CV Accuracy')\n",
    "plt.title('Decision Tree Cross-Validation Accuracy')"
   ]
  },
  {
   "cell_type": "code",
   "execution_count": 14,
   "metadata": {},
   "outputs": [
    {
     "name": "stdout",
     "output_type": "stream",
     "text": [
      "{'left 0': {'left 22': {'predicted': 15}, 'right 22': {'predicted': 15}},\n",
      " 'right 0': {'left 1': {'predicted': 2}, 'right 1': {'predicted': 10}}}\n"
     ]
    }
   ],
   "source": [
    "# Train on full data with best depth\n",
    "\n",
    "best_depth_index = cv_score.argmax()\n",
    "\n",
    "params['max_depth'] = depth_values[best_depth_index]\n",
    "\n",
    "dt_model = decision_tree_train(train_data, train_labels, params)"
   ]
  },
  {
   "cell_type": "code",
   "execution_count": null,
   "metadata": {},
   "outputs": [],
   "source": [
    "# Compute testing accuracy\n",
    "\n",
    "dt_predictions = decision_tree_predict(test_data, dt_model)\n",
    "\n",
    "dt_accuracy = np.mean(dt_predictions == test_labels)\n",
    "\n",
    "print(\"Decision tree testing accuracy: %f\" % dt_accuracy)"
   ]
  },
  {
   "cell_type": "code",
   "execution_count": null,
   "metadata": {},
   "outputs": [],
   "source": []
  }
 ],
 "metadata": {
  "anaconda-cloud": {},
  "kernelspec": {
   "display_name": "Python 3",
   "language": "python",
   "name": "python3"
  },
  "language_info": {
   "codemirror_mode": {
    "name": "ipython",
    "version": 3
   },
   "file_extension": ".py",
   "mimetype": "text/x-python",
   "name": "python",
   "nbconvert_exporter": "python",
   "pygments_lexer": "ipython3",
   "version": "3.7.3"
  }
 },
 "nbformat": 4,
 "nbformat_minor": 1
}
