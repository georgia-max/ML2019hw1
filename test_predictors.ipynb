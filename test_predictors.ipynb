{
 "cells": [
  {
   "cell_type": "code",
   "execution_count": 1,
   "metadata": {
    "pycharm": {
     "is_executing": false
    }
   },
   "outputs": [],
   "source": [
    "%load_ext autoreload\n",
    "%autoreload 2"
   ]
  },
  {
   "cell_type": "code",
   "execution_count": 2,
   "metadata": {
    "pycharm": {
     "is_executing": false
    }
   },
   "outputs": [],
   "source": [
    "import numpy as np\n",
    "from decision_tree import calculate_information_gain, decision_tree_train, decision_tree_predict\n",
    "from naive_bayes import naive_bayes_train, naive_bayes_predict\n",
    "from load_all_data import load_all_data\n"
   ]
  },
  {
   "cell_type": "code",
   "execution_count": 3,
   "metadata": {
    "pycharm": {
     "is_executing": false
    }
   },
   "outputs": [
    {
     "name": "stdout",
     "output_type": "stream",
     "text": [
      "Found pickle file. Loading 20news data from file.\n",
      "Doing so should be faster than loading from raw text, but if the file is corrupted, delete it and this script will automatically load from the raw text next time it is run.\n",
      "Finished loading in 0.02 seconds.\n"
     ]
    }
   ],
   "source": [
    "num_words, num_training, num_testing, train_data, test_data, train_labels, test_labels = load_all_data()"
   ]
  },
  {
   "cell_type": "code",
   "execution_count": 4,
   "metadata": {
    "pycharm": {
     "is_executing": false
    }
   },
   "outputs": [],
   "source": [
    "d = 5000 # maximum number of features"
   ]
  },
  {
   "cell_type": "code",
   "execution_count": 5,
   "metadata": {
    "pycharm": {
     "is_executing": false
    }
   },
   "outputs": [
    {
     "name": "stdout",
     "output_type": "stream",
     "text": [
      "[6.89207785e-03 5.72929455e-03 2.35420535e-02 ... 1.76640647e-12\n",
      " 1.76640647e-12 1.76640647e-12]\n"
     ]
    }
   ],
   "source": [
    "# Filter features by information gain\n",
    "\n",
    "gain = calculate_information_gain(train_data, train_labels)\n",
    "\n",
    "print(gain)\n",
    "\n",
    "# sort features by calculated information gain\n",
    "ranks = gain.argsort()[::-1]\n",
    "\n",
    "train_data = train_data[ranks[:d], :]\n",
    "test_data = test_data[ranks[:d], :]\n",
    "\n",
    "# convert training data to dense ndarray\n",
    "train_data = train_data.toarray()\n",
    "test_data = test_data.toarray()"
   ]
  },
  {
   "cell_type": "code",
   "execution_count": 70,
   "metadata": {
    "pycharm": {
     "is_executing": false
    },
    "scrolled": true
   },
   "outputs": [
    {
     "name": "stdout",
     "output_type": "stream",
     "text": [
      "11269 [480. 581. 572. 587. 575. 592. 582. 592. 596. 594. 598. 594. 591. 594.\n",
      " 593. 599. 545. 564. 464. 376.]\n",
      "11269.0\n",
      "[0.04260785 0.05155461 0.05075737 0.0520861  0.05102312 0.05252901\n",
      " 0.05164319 0.05252901 0.05288334 0.05270617 0.0530605  0.05270617\n",
      " 0.05244043 0.05270617 0.05261759 0.05314908 0.04836567 0.05004872\n",
      " 0.04119054 0.03339534] 1.0000000000000002\n",
      "countxy\n",
      " [[168.]\n",
      " [  0.]\n",
      " [  0.]\n",
      " ...\n",
      " [  0.]\n",
      " [  2.]\n",
      " [  0.]]\n",
      "20\n",
      "reshape\n",
      " [[480. 581. 572. ... 564. 464. 376.]\n",
      " [480. 581. 572. ... 564. 464. 376.]\n",
      " [480. 581. 572. ... 564. 464. 376.]\n",
      " ...\n",
      " [480. 581. 572. ... 564. 464. 376.]\n",
      " [480. 581. 572. ... 564. 464. 376.]\n",
      " [480. 581. 572. ... 564. 464. 376.]] (5000, 20)\n",
      "shape: (5000, 20) (5000, 20) (5000, 20)\n",
      "prob xy smoothed\n",
      " [[0.35062241 0.01372213 0.00696864 ... 0.04240283 0.0472103  0.33597884]\n",
      " [0.00207469 0.09948542 0.63763066 ... 0.01060071 0.01502146 0.0026455 ]\n",
      " [0.00207469 0.00171527 0.01219512 ... 0.00176678 0.00643777 0.00529101]\n",
      " ...\n",
      " [0.00207469 0.00343053 0.00174216 ... 0.00706714 0.01072961 0.0026455 ]\n",
      " [0.00622407 0.00343053 0.01916376 ... 0.01943463 0.00429185 0.00529101]\n",
      " [0.00207469 0.00171527 0.00174216 ... 0.00176678 0.00214592 0.02645503]]\n",
      "testarray [129.43153527  81.72898799  81.24738676  86.41595925  80.88908146\n",
      "  91.81313131  61.82705479  97.00673401  91.83779264  93.44798658\n",
      " 105.285      138.11241611  86.06408094 111.90604027 112.21176471\n",
      " 138.9733777  141.55393053 158.85512367 147.78111588 133.10582011]\n",
      "testarray (20,)\n",
      "prior shape (20,)\n",
      "con_prob (5000, 20)\n"
     ]
    }
   ],
   "source": [
    "# Try naive Bayes with hard-coded alpha value\n",
    "\n",
    "nb_params = { 'alpha': 1.0 }\n",
    "\n",
    "nb_model = naive_bayes_train(train_data, train_labels, nb_params)\n",
    "\n",
    "\n"
   ]
  },
  {
   "cell_type": "code",
   "execution_count": 73,
   "metadata": {
    "pycharm": {
     "is_executing": false
    },
    "scrolled": false
   },
   "outputs": [
    {
     "name": "stdout",
     "output_type": "stream",
     "text": [
      "data  [[ True False False ...  True False False]\n",
      " [False False False ... False False False]\n",
      " [False False False ... False False False]\n",
      " ...\n",
      " [False False False ... False False False]\n",
      " [False False False ... False False False]\n",
      " [False False False ... False False False]]\n",
      "data_bar [[0 1 1 ... 0 1 1]\n",
      " [1 1 1 ... 1 1 1]\n",
      " [1 1 1 ... 1 1 1]\n",
      " ...\n",
      " [1 1 1 ... 1 1 1]\n",
      " [1 1 1 ... 1 1 1]\n",
      " [1 1 1 ... 1 1 1]]\n",
      "(11269,)\n",
      "cond prob [[0.35062241 0.01372213 0.00696864 ... 0.04240283 0.0472103  0.33597884]\n",
      " [0.00207469 0.09948542 0.63763066 ... 0.01060071 0.01502146 0.0026455 ]\n",
      " [0.00207469 0.00171527 0.01219512 ... 0.00176678 0.00643777 0.00529101]\n",
      " ...\n",
      " [0.00207469 0.00343053 0.00174216 ... 0.00706714 0.01072961 0.0026455 ]\n",
      " [0.00622407 0.00343053 0.01916376 ... 0.01943463 0.00429185 0.00529101]\n",
      " [0.00207469 0.00171527 0.00174216 ... 0.00176678 0.00214592 0.02645503]]\n",
      "cond prob shape (5000, 20)\n",
      "cond_prob_bar [[0.64937759 0.98627787 0.99303136 ... 0.95759717 0.9527897  0.66402116]\n",
      " [0.99792531 0.90051458 0.36236934 ... 0.98939929 0.98497854 0.9973545 ]\n",
      " [0.99792531 0.99828473 0.98780488 ... 0.99823322 0.99356223 0.99470899]\n",
      " ...\n",
      " [0.99792531 0.99656947 0.99825784 ... 0.99293286 0.98927039 0.9973545 ]\n",
      " [0.99377593 0.99656947 0.98083624 ... 0.98056537 0.99570815 0.99470899]\n",
      " [0.99792531 0.99828473 0.99825784 ... 0.99823322 0.99785408 0.97354497]]\n",
      "cond_prob_bar shape (5000, 20)\n",
      "data mask\n",
      " (5000, 20)\n",
      "data mask bar\n",
      " (5000, 20)\n",
      "cond_prob_masked [[0.35062241 0.01372213 0.00696864 ... 0.04240283 0.0472103  0.33597884]\n",
      " [0.         0.         0.         ... 0.         0.         0.        ]\n",
      " [0.         0.         0.         ... 0.         0.         0.        ]\n",
      " ...\n",
      " [0.         0.         0.         ... 0.         0.         0.        ]\n",
      " [0.         0.         0.         ... 0.         0.         0.        ]\n",
      " [0.         0.         0.         ... 0.         0.         0.        ]]\n",
      "cond prob bar masked [[0.         0.         0.         ... 0.         0.         0.        ]\n",
      " [0.99792531 0.90051458 0.36236934 ... 0.98939929 0.98497854 0.9973545 ]\n",
      " [0.99792531 0.99828473 0.98780488 ... 0.99823322 0.99356223 0.99470899]\n",
      " ...\n",
      " [0.99792531 0.99656947 0.99825784 ... 0.99293286 0.98927039 0.9973545 ]\n",
      " [0.99377593 0.99656947 0.98083624 ... 0.98056537 0.99570815 0.99470899]\n",
      " [0.99792531 0.99828473 0.99825784 ... 0.99823322 0.99785408 0.97354497]]\n",
      "add_cond_prob [[0.35062241 0.01372213 0.00696864 ... 0.04240283 0.0472103  0.33597884]\n",
      " [0.99792531 0.90051458 0.36236934 ... 0.98939929 0.98497854 0.9973545 ]\n",
      " [0.99792531 0.99828473 0.98780488 ... 0.99823322 0.99356223 0.99470899]\n",
      " ...\n",
      " [0.99792531 0.99656947 0.99825784 ... 0.99293286 0.98927039 0.9973545 ]\n",
      " [0.99377593 0.99656947 0.98083624 ... 0.98056537 0.99570815 0.99470899]\n",
      " [0.99792531 0.99828473 0.99825784 ... 0.99823322 0.99785408 0.97354497]]\n",
      "loged [[-1.04804540e+00 -4.28874564e+00 -4.96633504e+00 ... -3.16054025e+00\n",
      "  -3.05314318e+00 -1.09070711e+00]\n",
      " [-2.07684394e-03 -1.04788924e-01 -1.01509132e+00 ... -1.06572945e-02\n",
      "  -1.51354241e-02 -2.64900817e-03]\n",
      " [-2.07684394e-03 -1.71673862e-03 -1.22700926e-02 ... -1.76834706e-03\n",
      "  -6.45858004e-03 -5.30505223e-03]\n",
      " ...\n",
      " [-2.07684394e-03 -3.43642950e-03 -1.74367960e-03 ... -7.09222831e-03\n",
      "  -1.07875911e-02 -2.64900817e-03]\n",
      " [-6.24351664e-03 -3.43642950e-03 -1.93497682e-02 ... -1.96259645e-02\n",
      "  -4.30108190e-03 -5.30505223e-03]\n",
      " [-2.07684394e-03 -1.71673862e-03 -1.74367960e-03 ... -1.76834706e-03\n",
      "  -2.14822854e-03 -2.68112575e-02]]\n",
      "cond_prob sum [-1408.15185385 -1740.45492713 -1808.00290596 -1804.58615143\n",
      " -1810.75879287 -1729.1695494  -1864.04556192 -1711.45798961\n",
      " -1724.29526124 -1778.46352597 -1725.73341856 -1558.09798586\n",
      " -1756.45638951 -1598.0191484  -1579.03440682 -1431.13073762\n",
      " -1519.34929268 -1448.73216272 -1465.22978332 -1408.67220887] (20,)\n",
      "posterior [-59.99832064 -89.72847618 -91.76948048 -93.99385748 -92.39056291\n",
      " -90.83156549 -96.26526376 -89.90119478 -91.1864887  -93.73600832\n",
      " -91.56828043 -82.12138379 -92.10932612 -84.22547553 -83.08498872\n",
      " -76.06328661 -73.48433996 -72.50719036 -60.35360521 -47.0430882 ]\n",
      "class 19\n",
      "[19. 19.  6. 19. 19. 19. 19. 19. 19. 19. 19. 19. 19. 19. 19. 19. 19. 19.\n",
      " 19. 19.]\n",
      "Naive Bayes training accuracy: 0.069483\n",
      "[0. 0. 0. 0. 0. 0. 0. 0. 0. 0. 0. 0. 0. 0. 0. 0. 0. 0. 0. 0.]\n"
     ]
    }
   ],
   "source": [
    "# Compute training accuracy\n",
    "\n",
    "nb_train_predictions = naive_bayes_predict(train_data, nb_model)\n",
    "\n",
    "nb_train_accuracy = np.mean(nb_train_predictions == train_labels)\n",
    "\n",
    "print(\"Naive Bayes training accuracy: %f\" % nb_train_accuracy)\n",
    "\n",
    "print(train_labels[0:20])"
   ]
  },
  {
   "cell_type": "code",
   "execution_count": 72,
   "metadata": {
    "pycharm": {
     "is_executing": false
    },
    "scrolled": true
   },
   "outputs": [
    {
     "name": "stdout",
     "output_type": "stream",
     "text": [
      "data  [[ True  True False ... False False False]\n",
      " [False False False ... False False  True]\n",
      " [False False False ... False False False]\n",
      " ...\n",
      " [False False False ... False False False]\n",
      " [False False False ... False False False]\n",
      " [False False False ... False False False]]\n",
      "data_bar [[0 0 1 ... 1 1 1]\n",
      " [1 1 1 ... 1 1 0]\n",
      " [1 1 1 ... 1 1 1]\n",
      " ...\n",
      " [1 1 1 ... 1 1 1]\n",
      " [1 1 1 ... 1 1 1]\n",
      " [1 1 1 ... 1 1 1]]\n",
      "(7505,)\n",
      "cond prob [[0.35062241 0.01372213 0.00696864 ... 0.04240283 0.0472103  0.33597884]\n",
      " [0.00207469 0.09948542 0.63763066 ... 0.01060071 0.01502146 0.0026455 ]\n",
      " [0.00207469 0.00171527 0.01219512 ... 0.00176678 0.00643777 0.00529101]\n",
      " ...\n",
      " [0.00207469 0.00343053 0.00174216 ... 0.00706714 0.01072961 0.0026455 ]\n",
      " [0.00622407 0.00343053 0.01916376 ... 0.01943463 0.00429185 0.00529101]\n",
      " [0.00207469 0.00171527 0.00174216 ... 0.00176678 0.00214592 0.02645503]]\n",
      "cond prob shape (5000, 20)\n",
      "cond_prob_bar [[0.64937759 0.98627787 0.99303136 ... 0.95759717 0.9527897  0.66402116]\n",
      " [0.99792531 0.90051458 0.36236934 ... 0.98939929 0.98497854 0.9973545 ]\n",
      " [0.99792531 0.99828473 0.98780488 ... 0.99823322 0.99356223 0.99470899]\n",
      " ...\n",
      " [0.99792531 0.99656947 0.99825784 ... 0.99293286 0.98927039 0.9973545 ]\n",
      " [0.99377593 0.99656947 0.98083624 ... 0.98056537 0.99570815 0.99470899]\n",
      " [0.99792531 0.99828473 0.99825784 ... 0.99823322 0.99785408 0.97354497]]\n",
      "cond_prob_bar shape (5000, 20)\n",
      "data mask\n",
      " (5000, 20)\n",
      "data mask bar\n",
      " (5000, 20)\n",
      "cond_prob_masked [[0.35062241 0.01372213 0.00696864 ... 0.04240283 0.0472103  0.33597884]\n",
      " [0.         0.         0.         ... 0.         0.         0.        ]\n",
      " [0.         0.         0.         ... 0.         0.         0.        ]\n",
      " ...\n",
      " [0.         0.         0.         ... 0.         0.         0.        ]\n",
      " [0.         0.         0.         ... 0.         0.         0.        ]\n",
      " [0.         0.         0.         ... 0.         0.         0.        ]]\n",
      "cond prob bar masked [[0.         0.         0.         ... 0.         0.         0.        ]\n",
      " [0.99792531 0.90051458 0.36236934 ... 0.98939929 0.98497854 0.9973545 ]\n",
      " [0.99792531 0.99828473 0.98780488 ... 0.99823322 0.99356223 0.99470899]\n",
      " ...\n",
      " [0.99792531 0.99656947 0.99825784 ... 0.99293286 0.98927039 0.9973545 ]\n",
      " [0.99377593 0.99656947 0.98083624 ... 0.98056537 0.99570815 0.99470899]\n",
      " [0.99792531 0.99828473 0.99825784 ... 0.99823322 0.99785408 0.97354497]]\n",
      "add_cond_prob [[0.35062241 0.01372213 0.00696864 ... 0.04240283 0.0472103  0.33597884]\n",
      " [0.99792531 0.90051458 0.36236934 ... 0.98939929 0.98497854 0.9973545 ]\n",
      " [0.99792531 0.99828473 0.98780488 ... 0.99823322 0.99356223 0.99470899]\n",
      " ...\n",
      " [0.99792531 0.99656947 0.99825784 ... 0.99293286 0.98927039 0.9973545 ]\n",
      " [0.99377593 0.99656947 0.98083624 ... 0.98056537 0.99570815 0.99470899]\n",
      " [0.99792531 0.99828473 0.99825784 ... 0.99823322 0.99785408 0.97354497]]\n",
      "loged [[-1.04804540e+00 -4.28874564e+00 -4.96633504e+00 ... -3.16054025e+00\n",
      "  -3.05314318e+00 -1.09070711e+00]\n",
      " [-2.07684394e-03 -1.04788924e-01 -1.01509132e+00 ... -1.06572945e-02\n",
      "  -1.51354241e-02 -2.64900817e-03]\n",
      " [-2.07684394e-03 -1.71673862e-03 -1.22700926e-02 ... -1.76834706e-03\n",
      "  -6.45858004e-03 -5.30505223e-03]\n",
      " ...\n",
      " [-2.07684394e-03 -3.43642950e-03 -1.74367960e-03 ... -7.09222831e-03\n",
      "  -1.07875911e-02 -2.64900817e-03]\n",
      " [-6.24351664e-03 -3.43642950e-03 -1.93497682e-02 ... -1.96259645e-02\n",
      "  -4.30108190e-03 -5.30505223e-03]\n",
      " [-2.07684394e-03 -1.71673862e-03 -1.74367960e-03 ... -1.76834706e-03\n",
      "  -2.14822854e-03 -2.68112575e-02]]\n",
      "cond_prob sum [-344.25547107 -434.93091289 -443.54424336 -435.37822457 -423.27268214\n",
      " -438.45081918 -464.66160487 -400.83714389 -416.04189208 -421.42045066\n",
      " -426.39992513 -411.15635873 -427.20618962 -394.79097008 -420.54039948\n",
      " -354.69895583 -395.06911958 -408.7414079  -390.07484616 -362.23365381] (20,)\n",
      "posterior [-14.6679849  -22.42269389 -22.51314124 -22.6771544  -21.59669279\n",
      " -23.0313877  -23.9966087  -21.05557856 -22.0016839  -22.21145966\n",
      " -22.62499381 -21.67047865 -22.40287574 -20.80792162 -22.1278233\n",
      " -18.85192431 -19.10778096 -20.45698427 -16.06739334 -12.09691624]\n",
      "class 19\n",
      "[19. 19. 19. ... 19. 19. 19.]\n",
      "Naive Bayes testing accuracy: 0.063558\n"
     ]
    }
   ],
   "source": [
    "# Compute testing accuracy\n",
    "\n",
    "nb_test_predictions = naive_bayes_predict(test_data, nb_model)\n",
    "\n",
    "nb_test_accuracy = np.mean(nb_test_predictions == test_labels)\n",
    "\n",
    "print(\"Naive Bayes testing accuracy: %f\" % nb_test_accuracy)"
   ]
  },
  {
   "cell_type": "code",
   "execution_count": 26,
   "metadata": {
    "pycharm": {
     "is_executing": false
    },
    "scrolled": true
   },
   "outputs": [
    {
     "name": "stderr",
     "output_type": "stream",
     "text": [
      "/Users/Georgia 1/PycharmProjects/hw1/decision_tree.py:45: RuntimeWarning: invalid value encountered in true_divide\n",
      "  prob_x = num_x / n\n"
     ]
    },
    {
     "ename": "KeyboardInterrupt",
     "evalue": "",
     "output_type": "error",
     "traceback": [
      "\u001b[0;31m---------------------------------------------------------------------------\u001b[0m",
      "\u001b[0;31mKeyboardInterrupt\u001b[0m                         Traceback (most recent call last)",
      "\u001b[0;32m<ipython-input-26-e2edf494cb72>\u001b[0m in \u001b[0;36m<module>\u001b[0;34m\u001b[0m\n\u001b[1;32m      3\u001b[0m \u001b[0mdt_params\u001b[0m \u001b[0;34m=\u001b[0m \u001b[0;34m{\u001b[0m \u001b[0;34m'max_depth'\u001b[0m\u001b[0;34m:\u001b[0m \u001b[0;36m16\u001b[0m \u001b[0;34m}\u001b[0m\u001b[0;34m\u001b[0m\u001b[0;34m\u001b[0m\u001b[0m\n\u001b[1;32m      4\u001b[0m \u001b[0;34m\u001b[0m\u001b[0m\n\u001b[0;32m----> 5\u001b[0;31m \u001b[0mdt_model\u001b[0m \u001b[0;34m=\u001b[0m \u001b[0mdecision_tree_train\u001b[0m\u001b[0;34m(\u001b[0m\u001b[0mtrain_data\u001b[0m\u001b[0;34m,\u001b[0m \u001b[0mtrain_labels\u001b[0m\u001b[0;34m,\u001b[0m \u001b[0mdt_params\u001b[0m\u001b[0;34m)\u001b[0m\u001b[0;34m\u001b[0m\u001b[0;34m\u001b[0m\u001b[0m\n\u001b[0m\u001b[1;32m      6\u001b[0m \u001b[0;34m\u001b[0m\u001b[0m\n\u001b[1;32m      7\u001b[0m \u001b[0;34m\u001b[0m\u001b[0m\n",
      "\u001b[0;32m~/PycharmProjects/hw1/decision_tree.py\u001b[0m in \u001b[0;36mdecision_tree_train\u001b[0;34m(train_data, train_labels, params)\u001b[0m\n\u001b[1;32m    103\u001b[0m \u001b[0;34m\u001b[0m\u001b[0m\n\u001b[1;32m    104\u001b[0m \u001b[0;34m\u001b[0m\u001b[0m\n\u001b[0;32m--> 105\u001b[0;31m     \u001b[0mmodel\u001b[0m \u001b[0;34m=\u001b[0m \u001b[0mrecursive_tree_train\u001b[0m\u001b[0;34m(\u001b[0m\u001b[0mtrain_data\u001b[0m\u001b[0;34m,\u001b[0m \u001b[0mtrain_labels\u001b[0m\u001b[0;34m,\u001b[0m \u001b[0mdepth\u001b[0m\u001b[0;34m=\u001b[0m\u001b[0;36m0\u001b[0m\u001b[0;34m,\u001b[0m \u001b[0mmax_depth\u001b[0m\u001b[0;34m=\u001b[0m\u001b[0mmax_depth\u001b[0m\u001b[0;34m,\u001b[0m \u001b[0mnum_classes\u001b[0m\u001b[0;34m=\u001b[0m\u001b[0mnum_classes\u001b[0m\u001b[0;34m)\u001b[0m\u001b[0;34m\u001b[0m\u001b[0;34m\u001b[0m\u001b[0m\n\u001b[0m\u001b[1;32m    106\u001b[0m     \u001b[0mpprint\u001b[0m\u001b[0;34m(\u001b[0m\u001b[0mmodel\u001b[0m\u001b[0;34m)\u001b[0m\u001b[0;34m\u001b[0m\u001b[0;34m\u001b[0m\u001b[0m\n\u001b[1;32m    107\u001b[0m     \u001b[0;32mreturn\u001b[0m \u001b[0mmodel\u001b[0m\u001b[0;34m\u001b[0m\u001b[0;34m\u001b[0m\u001b[0m\n",
      "\u001b[0;32m~/PycharmProjects/hw1/decision_tree.py\u001b[0m in \u001b[0;36mrecursive_tree_train\u001b[0;34m(data, labels, depth, max_depth, num_classes)\u001b[0m\n\u001b[1;32m    177\u001b[0m \u001b[0;34m\u001b[0m\u001b[0m\n\u001b[1;32m    178\u001b[0m         \u001b[0mnode_left\u001b[0m \u001b[0;34m=\u001b[0m \u001b[0mrecursive_tree_train\u001b[0m\u001b[0;34m(\u001b[0m\u001b[0mleft\u001b[0m\u001b[0;34m,\u001b[0m\u001b[0mleft_labels\u001b[0m\u001b[0;34m,\u001b[0m\u001b[0mdepth\u001b[0m\u001b[0;34m+\u001b[0m\u001b[0;36m1\u001b[0m \u001b[0;34m,\u001b[0m\u001b[0mmax_depth\u001b[0m\u001b[0;34m,\u001b[0m\u001b[0mnum_classes\u001b[0m\u001b[0;34m)\u001b[0m\u001b[0;34m\u001b[0m\u001b[0;34m\u001b[0m\u001b[0m\n\u001b[0;32m--> 179\u001b[0;31m         \u001b[0mnode_right\u001b[0m \u001b[0;34m=\u001b[0m \u001b[0mrecursive_tree_train\u001b[0m\u001b[0;34m(\u001b[0m\u001b[0mright\u001b[0m\u001b[0;34m,\u001b[0m\u001b[0mright_labels\u001b[0m\u001b[0;34m,\u001b[0m\u001b[0mdepth\u001b[0m\u001b[0;34m+\u001b[0m\u001b[0;36m1\u001b[0m\u001b[0;34m,\u001b[0m\u001b[0mmax_depth\u001b[0m\u001b[0;34m,\u001b[0m\u001b[0mnum_classes\u001b[0m\u001b[0;34m)\u001b[0m\u001b[0;34m\u001b[0m\u001b[0;34m\u001b[0m\u001b[0m\n\u001b[0m\u001b[1;32m    180\u001b[0m \u001b[0;34m\u001b[0m\u001b[0m\n\u001b[1;32m    181\u001b[0m         \u001b[0mnode\u001b[0m\u001b[0;34m[\u001b[0m\u001b[0;34mf'left {max_Info_gain}'\u001b[0m\u001b[0;34m]\u001b[0m \u001b[0;34m=\u001b[0m \u001b[0mnode_left\u001b[0m\u001b[0;34m\u001b[0m\u001b[0;34m\u001b[0m\u001b[0m\n",
      "\u001b[0;32m~/PycharmProjects/hw1/decision_tree.py\u001b[0m in \u001b[0;36mrecursive_tree_train\u001b[0;34m(data, labels, depth, max_depth, num_classes)\u001b[0m\n\u001b[1;32m    177\u001b[0m \u001b[0;34m\u001b[0m\u001b[0m\n\u001b[1;32m    178\u001b[0m         \u001b[0mnode_left\u001b[0m \u001b[0;34m=\u001b[0m \u001b[0mrecursive_tree_train\u001b[0m\u001b[0;34m(\u001b[0m\u001b[0mleft\u001b[0m\u001b[0;34m,\u001b[0m\u001b[0mleft_labels\u001b[0m\u001b[0;34m,\u001b[0m\u001b[0mdepth\u001b[0m\u001b[0;34m+\u001b[0m\u001b[0;36m1\u001b[0m \u001b[0;34m,\u001b[0m\u001b[0mmax_depth\u001b[0m\u001b[0;34m,\u001b[0m\u001b[0mnum_classes\u001b[0m\u001b[0;34m)\u001b[0m\u001b[0;34m\u001b[0m\u001b[0;34m\u001b[0m\u001b[0m\n\u001b[0;32m--> 179\u001b[0;31m         \u001b[0mnode_right\u001b[0m \u001b[0;34m=\u001b[0m \u001b[0mrecursive_tree_train\u001b[0m\u001b[0;34m(\u001b[0m\u001b[0mright\u001b[0m\u001b[0;34m,\u001b[0m\u001b[0mright_labels\u001b[0m\u001b[0;34m,\u001b[0m\u001b[0mdepth\u001b[0m\u001b[0;34m+\u001b[0m\u001b[0;36m1\u001b[0m\u001b[0;34m,\u001b[0m\u001b[0mmax_depth\u001b[0m\u001b[0;34m,\u001b[0m\u001b[0mnum_classes\u001b[0m\u001b[0;34m)\u001b[0m\u001b[0;34m\u001b[0m\u001b[0;34m\u001b[0m\u001b[0m\n\u001b[0m\u001b[1;32m    180\u001b[0m \u001b[0;34m\u001b[0m\u001b[0m\n\u001b[1;32m    181\u001b[0m         \u001b[0mnode\u001b[0m\u001b[0;34m[\u001b[0m\u001b[0;34mf'left {max_Info_gain}'\u001b[0m\u001b[0;34m]\u001b[0m \u001b[0;34m=\u001b[0m \u001b[0mnode_left\u001b[0m\u001b[0;34m\u001b[0m\u001b[0;34m\u001b[0m\u001b[0m\n",
      "\u001b[0;32m~/PycharmProjects/hw1/decision_tree.py\u001b[0m in \u001b[0;36mrecursive_tree_train\u001b[0;34m(data, labels, depth, max_depth, num_classes)\u001b[0m\n\u001b[1;32m    177\u001b[0m \u001b[0;34m\u001b[0m\u001b[0m\n\u001b[1;32m    178\u001b[0m         \u001b[0mnode_left\u001b[0m \u001b[0;34m=\u001b[0m \u001b[0mrecursive_tree_train\u001b[0m\u001b[0;34m(\u001b[0m\u001b[0mleft\u001b[0m\u001b[0;34m,\u001b[0m\u001b[0mleft_labels\u001b[0m\u001b[0;34m,\u001b[0m\u001b[0mdepth\u001b[0m\u001b[0;34m+\u001b[0m\u001b[0;36m1\u001b[0m \u001b[0;34m,\u001b[0m\u001b[0mmax_depth\u001b[0m\u001b[0;34m,\u001b[0m\u001b[0mnum_classes\u001b[0m\u001b[0;34m)\u001b[0m\u001b[0;34m\u001b[0m\u001b[0;34m\u001b[0m\u001b[0m\n\u001b[0;32m--> 179\u001b[0;31m         \u001b[0mnode_right\u001b[0m \u001b[0;34m=\u001b[0m \u001b[0mrecursive_tree_train\u001b[0m\u001b[0;34m(\u001b[0m\u001b[0mright\u001b[0m\u001b[0;34m,\u001b[0m\u001b[0mright_labels\u001b[0m\u001b[0;34m,\u001b[0m\u001b[0mdepth\u001b[0m\u001b[0;34m+\u001b[0m\u001b[0;36m1\u001b[0m\u001b[0;34m,\u001b[0m\u001b[0mmax_depth\u001b[0m\u001b[0;34m,\u001b[0m\u001b[0mnum_classes\u001b[0m\u001b[0;34m)\u001b[0m\u001b[0;34m\u001b[0m\u001b[0;34m\u001b[0m\u001b[0m\n\u001b[0m\u001b[1;32m    180\u001b[0m \u001b[0;34m\u001b[0m\u001b[0m\n\u001b[1;32m    181\u001b[0m         \u001b[0mnode\u001b[0m\u001b[0;34m[\u001b[0m\u001b[0;34mf'left {max_Info_gain}'\u001b[0m\u001b[0;34m]\u001b[0m \u001b[0;34m=\u001b[0m \u001b[0mnode_left\u001b[0m\u001b[0;34m\u001b[0m\u001b[0;34m\u001b[0m\u001b[0m\n",
      "\u001b[0;32m~/PycharmProjects/hw1/decision_tree.py\u001b[0m in \u001b[0;36mrecursive_tree_train\u001b[0;34m(data, labels, depth, max_depth, num_classes)\u001b[0m\n\u001b[1;32m    177\u001b[0m \u001b[0;34m\u001b[0m\u001b[0m\n\u001b[1;32m    178\u001b[0m         \u001b[0mnode_left\u001b[0m \u001b[0;34m=\u001b[0m \u001b[0mrecursive_tree_train\u001b[0m\u001b[0;34m(\u001b[0m\u001b[0mleft\u001b[0m\u001b[0;34m,\u001b[0m\u001b[0mleft_labels\u001b[0m\u001b[0;34m,\u001b[0m\u001b[0mdepth\u001b[0m\u001b[0;34m+\u001b[0m\u001b[0;36m1\u001b[0m \u001b[0;34m,\u001b[0m\u001b[0mmax_depth\u001b[0m\u001b[0;34m,\u001b[0m\u001b[0mnum_classes\u001b[0m\u001b[0;34m)\u001b[0m\u001b[0;34m\u001b[0m\u001b[0;34m\u001b[0m\u001b[0m\n\u001b[0;32m--> 179\u001b[0;31m         \u001b[0mnode_right\u001b[0m \u001b[0;34m=\u001b[0m \u001b[0mrecursive_tree_train\u001b[0m\u001b[0;34m(\u001b[0m\u001b[0mright\u001b[0m\u001b[0;34m,\u001b[0m\u001b[0mright_labels\u001b[0m\u001b[0;34m,\u001b[0m\u001b[0mdepth\u001b[0m\u001b[0;34m+\u001b[0m\u001b[0;36m1\u001b[0m\u001b[0;34m,\u001b[0m\u001b[0mmax_depth\u001b[0m\u001b[0;34m,\u001b[0m\u001b[0mnum_classes\u001b[0m\u001b[0;34m)\u001b[0m\u001b[0;34m\u001b[0m\u001b[0;34m\u001b[0m\u001b[0m\n\u001b[0m\u001b[1;32m    180\u001b[0m \u001b[0;34m\u001b[0m\u001b[0m\n\u001b[1;32m    181\u001b[0m         \u001b[0mnode\u001b[0m\u001b[0;34m[\u001b[0m\u001b[0;34mf'left {max_Info_gain}'\u001b[0m\u001b[0;34m]\u001b[0m \u001b[0;34m=\u001b[0m \u001b[0mnode_left\u001b[0m\u001b[0;34m\u001b[0m\u001b[0;34m\u001b[0m\u001b[0m\n",
      "\u001b[0;32m~/PycharmProjects/hw1/decision_tree.py\u001b[0m in \u001b[0;36mrecursive_tree_train\u001b[0;34m(data, labels, depth, max_depth, num_classes)\u001b[0m\n\u001b[1;32m    177\u001b[0m \u001b[0;34m\u001b[0m\u001b[0m\n\u001b[1;32m    178\u001b[0m         \u001b[0mnode_left\u001b[0m \u001b[0;34m=\u001b[0m \u001b[0mrecursive_tree_train\u001b[0m\u001b[0;34m(\u001b[0m\u001b[0mleft\u001b[0m\u001b[0;34m,\u001b[0m\u001b[0mleft_labels\u001b[0m\u001b[0;34m,\u001b[0m\u001b[0mdepth\u001b[0m\u001b[0;34m+\u001b[0m\u001b[0;36m1\u001b[0m \u001b[0;34m,\u001b[0m\u001b[0mmax_depth\u001b[0m\u001b[0;34m,\u001b[0m\u001b[0mnum_classes\u001b[0m\u001b[0;34m)\u001b[0m\u001b[0;34m\u001b[0m\u001b[0;34m\u001b[0m\u001b[0m\n\u001b[0;32m--> 179\u001b[0;31m         \u001b[0mnode_right\u001b[0m \u001b[0;34m=\u001b[0m \u001b[0mrecursive_tree_train\u001b[0m\u001b[0;34m(\u001b[0m\u001b[0mright\u001b[0m\u001b[0;34m,\u001b[0m\u001b[0mright_labels\u001b[0m\u001b[0;34m,\u001b[0m\u001b[0mdepth\u001b[0m\u001b[0;34m+\u001b[0m\u001b[0;36m1\u001b[0m\u001b[0;34m,\u001b[0m\u001b[0mmax_depth\u001b[0m\u001b[0;34m,\u001b[0m\u001b[0mnum_classes\u001b[0m\u001b[0;34m)\u001b[0m\u001b[0;34m\u001b[0m\u001b[0;34m\u001b[0m\u001b[0m\n\u001b[0m\u001b[1;32m    180\u001b[0m \u001b[0;34m\u001b[0m\u001b[0m\n\u001b[1;32m    181\u001b[0m         \u001b[0mnode\u001b[0m\u001b[0;34m[\u001b[0m\u001b[0;34mf'left {max_Info_gain}'\u001b[0m\u001b[0;34m]\u001b[0m \u001b[0;34m=\u001b[0m \u001b[0mnode_left\u001b[0m\u001b[0;34m\u001b[0m\u001b[0;34m\u001b[0m\u001b[0m\n",
      "\u001b[0;32m~/PycharmProjects/hw1/decision_tree.py\u001b[0m in \u001b[0;36mrecursive_tree_train\u001b[0;34m(data, labels, depth, max_depth, num_classes)\u001b[0m\n\u001b[1;32m    177\u001b[0m \u001b[0;34m\u001b[0m\u001b[0m\n\u001b[1;32m    178\u001b[0m         \u001b[0mnode_left\u001b[0m \u001b[0;34m=\u001b[0m \u001b[0mrecursive_tree_train\u001b[0m\u001b[0;34m(\u001b[0m\u001b[0mleft\u001b[0m\u001b[0;34m,\u001b[0m\u001b[0mleft_labels\u001b[0m\u001b[0;34m,\u001b[0m\u001b[0mdepth\u001b[0m\u001b[0;34m+\u001b[0m\u001b[0;36m1\u001b[0m \u001b[0;34m,\u001b[0m\u001b[0mmax_depth\u001b[0m\u001b[0;34m,\u001b[0m\u001b[0mnum_classes\u001b[0m\u001b[0;34m)\u001b[0m\u001b[0;34m\u001b[0m\u001b[0;34m\u001b[0m\u001b[0m\n\u001b[0;32m--> 179\u001b[0;31m         \u001b[0mnode_right\u001b[0m \u001b[0;34m=\u001b[0m \u001b[0mrecursive_tree_train\u001b[0m\u001b[0;34m(\u001b[0m\u001b[0mright\u001b[0m\u001b[0;34m,\u001b[0m\u001b[0mright_labels\u001b[0m\u001b[0;34m,\u001b[0m\u001b[0mdepth\u001b[0m\u001b[0;34m+\u001b[0m\u001b[0;36m1\u001b[0m\u001b[0;34m,\u001b[0m\u001b[0mmax_depth\u001b[0m\u001b[0;34m,\u001b[0m\u001b[0mnum_classes\u001b[0m\u001b[0;34m)\u001b[0m\u001b[0;34m\u001b[0m\u001b[0;34m\u001b[0m\u001b[0m\n\u001b[0m\u001b[1;32m    180\u001b[0m \u001b[0;34m\u001b[0m\u001b[0m\n\u001b[1;32m    181\u001b[0m         \u001b[0mnode\u001b[0m\u001b[0;34m[\u001b[0m\u001b[0;34mf'left {max_Info_gain}'\u001b[0m\u001b[0;34m]\u001b[0m \u001b[0;34m=\u001b[0m \u001b[0mnode_left\u001b[0m\u001b[0;34m\u001b[0m\u001b[0;34m\u001b[0m\u001b[0m\n",
      "\u001b[0;32m~/PycharmProjects/hw1/decision_tree.py\u001b[0m in \u001b[0;36mrecursive_tree_train\u001b[0;34m(data, labels, depth, max_depth, num_classes)\u001b[0m\n\u001b[1;32m    177\u001b[0m \u001b[0;34m\u001b[0m\u001b[0m\n\u001b[1;32m    178\u001b[0m         \u001b[0mnode_left\u001b[0m \u001b[0;34m=\u001b[0m \u001b[0mrecursive_tree_train\u001b[0m\u001b[0;34m(\u001b[0m\u001b[0mleft\u001b[0m\u001b[0;34m,\u001b[0m\u001b[0mleft_labels\u001b[0m\u001b[0;34m,\u001b[0m\u001b[0mdepth\u001b[0m\u001b[0;34m+\u001b[0m\u001b[0;36m1\u001b[0m \u001b[0;34m,\u001b[0m\u001b[0mmax_depth\u001b[0m\u001b[0;34m,\u001b[0m\u001b[0mnum_classes\u001b[0m\u001b[0;34m)\u001b[0m\u001b[0;34m\u001b[0m\u001b[0;34m\u001b[0m\u001b[0m\n\u001b[0;32m--> 179\u001b[0;31m         \u001b[0mnode_right\u001b[0m \u001b[0;34m=\u001b[0m \u001b[0mrecursive_tree_train\u001b[0m\u001b[0;34m(\u001b[0m\u001b[0mright\u001b[0m\u001b[0;34m,\u001b[0m\u001b[0mright_labels\u001b[0m\u001b[0;34m,\u001b[0m\u001b[0mdepth\u001b[0m\u001b[0;34m+\u001b[0m\u001b[0;36m1\u001b[0m\u001b[0;34m,\u001b[0m\u001b[0mmax_depth\u001b[0m\u001b[0;34m,\u001b[0m\u001b[0mnum_classes\u001b[0m\u001b[0;34m)\u001b[0m\u001b[0;34m\u001b[0m\u001b[0;34m\u001b[0m\u001b[0m\n\u001b[0m\u001b[1;32m    180\u001b[0m \u001b[0;34m\u001b[0m\u001b[0m\n\u001b[1;32m    181\u001b[0m         \u001b[0mnode\u001b[0m\u001b[0;34m[\u001b[0m\u001b[0;34mf'left {max_Info_gain}'\u001b[0m\u001b[0;34m]\u001b[0m \u001b[0;34m=\u001b[0m \u001b[0mnode_left\u001b[0m\u001b[0;34m\u001b[0m\u001b[0;34m\u001b[0m\u001b[0m\n",
      "\u001b[0;32m~/PycharmProjects/hw1/decision_tree.py\u001b[0m in \u001b[0;36mrecursive_tree_train\u001b[0;34m(data, labels, depth, max_depth, num_classes)\u001b[0m\n\u001b[1;32m    177\u001b[0m \u001b[0;34m\u001b[0m\u001b[0m\n\u001b[1;32m    178\u001b[0m         \u001b[0mnode_left\u001b[0m \u001b[0;34m=\u001b[0m \u001b[0mrecursive_tree_train\u001b[0m\u001b[0;34m(\u001b[0m\u001b[0mleft\u001b[0m\u001b[0;34m,\u001b[0m\u001b[0mleft_labels\u001b[0m\u001b[0;34m,\u001b[0m\u001b[0mdepth\u001b[0m\u001b[0;34m+\u001b[0m\u001b[0;36m1\u001b[0m \u001b[0;34m,\u001b[0m\u001b[0mmax_depth\u001b[0m\u001b[0;34m,\u001b[0m\u001b[0mnum_classes\u001b[0m\u001b[0;34m)\u001b[0m\u001b[0;34m\u001b[0m\u001b[0;34m\u001b[0m\u001b[0m\n\u001b[0;32m--> 179\u001b[0;31m         \u001b[0mnode_right\u001b[0m \u001b[0;34m=\u001b[0m \u001b[0mrecursive_tree_train\u001b[0m\u001b[0;34m(\u001b[0m\u001b[0mright\u001b[0m\u001b[0;34m,\u001b[0m\u001b[0mright_labels\u001b[0m\u001b[0;34m,\u001b[0m\u001b[0mdepth\u001b[0m\u001b[0;34m+\u001b[0m\u001b[0;36m1\u001b[0m\u001b[0;34m,\u001b[0m\u001b[0mmax_depth\u001b[0m\u001b[0;34m,\u001b[0m\u001b[0mnum_classes\u001b[0m\u001b[0;34m)\u001b[0m\u001b[0;34m\u001b[0m\u001b[0;34m\u001b[0m\u001b[0m\n\u001b[0m\u001b[1;32m    180\u001b[0m \u001b[0;34m\u001b[0m\u001b[0m\n\u001b[1;32m    181\u001b[0m         \u001b[0mnode\u001b[0m\u001b[0;34m[\u001b[0m\u001b[0;34mf'left {max_Info_gain}'\u001b[0m\u001b[0;34m]\u001b[0m \u001b[0;34m=\u001b[0m \u001b[0mnode_left\u001b[0m\u001b[0;34m\u001b[0m\u001b[0;34m\u001b[0m\u001b[0m\n",
      "\u001b[0;32m~/PycharmProjects/hw1/decision_tree.py\u001b[0m in \u001b[0;36mrecursive_tree_train\u001b[0;34m(data, labels, depth, max_depth, num_classes)\u001b[0m\n\u001b[1;32m    177\u001b[0m \u001b[0;34m\u001b[0m\u001b[0m\n\u001b[1;32m    178\u001b[0m         \u001b[0mnode_left\u001b[0m \u001b[0;34m=\u001b[0m \u001b[0mrecursive_tree_train\u001b[0m\u001b[0;34m(\u001b[0m\u001b[0mleft\u001b[0m\u001b[0;34m,\u001b[0m\u001b[0mleft_labels\u001b[0m\u001b[0;34m,\u001b[0m\u001b[0mdepth\u001b[0m\u001b[0;34m+\u001b[0m\u001b[0;36m1\u001b[0m \u001b[0;34m,\u001b[0m\u001b[0mmax_depth\u001b[0m\u001b[0;34m,\u001b[0m\u001b[0mnum_classes\u001b[0m\u001b[0;34m)\u001b[0m\u001b[0;34m\u001b[0m\u001b[0;34m\u001b[0m\u001b[0m\n\u001b[0;32m--> 179\u001b[0;31m         \u001b[0mnode_right\u001b[0m \u001b[0;34m=\u001b[0m \u001b[0mrecursive_tree_train\u001b[0m\u001b[0;34m(\u001b[0m\u001b[0mright\u001b[0m\u001b[0;34m,\u001b[0m\u001b[0mright_labels\u001b[0m\u001b[0;34m,\u001b[0m\u001b[0mdepth\u001b[0m\u001b[0;34m+\u001b[0m\u001b[0;36m1\u001b[0m\u001b[0;34m,\u001b[0m\u001b[0mmax_depth\u001b[0m\u001b[0;34m,\u001b[0m\u001b[0mnum_classes\u001b[0m\u001b[0;34m)\u001b[0m\u001b[0;34m\u001b[0m\u001b[0;34m\u001b[0m\u001b[0m\n\u001b[0m\u001b[1;32m    180\u001b[0m \u001b[0;34m\u001b[0m\u001b[0m\n\u001b[1;32m    181\u001b[0m         \u001b[0mnode\u001b[0m\u001b[0;34m[\u001b[0m\u001b[0;34mf'left {max_Info_gain}'\u001b[0m\u001b[0;34m]\u001b[0m \u001b[0;34m=\u001b[0m \u001b[0mnode_left\u001b[0m\u001b[0;34m\u001b[0m\u001b[0;34m\u001b[0m\u001b[0m\n",
      "\u001b[0;32m~/PycharmProjects/hw1/decision_tree.py\u001b[0m in \u001b[0;36mrecursive_tree_train\u001b[0;34m(data, labels, depth, max_depth, num_classes)\u001b[0m\n\u001b[1;32m    177\u001b[0m \u001b[0;34m\u001b[0m\u001b[0m\n\u001b[1;32m    178\u001b[0m         \u001b[0mnode_left\u001b[0m \u001b[0;34m=\u001b[0m \u001b[0mrecursive_tree_train\u001b[0m\u001b[0;34m(\u001b[0m\u001b[0mleft\u001b[0m\u001b[0;34m,\u001b[0m\u001b[0mleft_labels\u001b[0m\u001b[0;34m,\u001b[0m\u001b[0mdepth\u001b[0m\u001b[0;34m+\u001b[0m\u001b[0;36m1\u001b[0m \u001b[0;34m,\u001b[0m\u001b[0mmax_depth\u001b[0m\u001b[0;34m,\u001b[0m\u001b[0mnum_classes\u001b[0m\u001b[0;34m)\u001b[0m\u001b[0;34m\u001b[0m\u001b[0;34m\u001b[0m\u001b[0m\n\u001b[0;32m--> 179\u001b[0;31m         \u001b[0mnode_right\u001b[0m \u001b[0;34m=\u001b[0m \u001b[0mrecursive_tree_train\u001b[0m\u001b[0;34m(\u001b[0m\u001b[0mright\u001b[0m\u001b[0;34m,\u001b[0m\u001b[0mright_labels\u001b[0m\u001b[0;34m,\u001b[0m\u001b[0mdepth\u001b[0m\u001b[0;34m+\u001b[0m\u001b[0;36m1\u001b[0m\u001b[0;34m,\u001b[0m\u001b[0mmax_depth\u001b[0m\u001b[0;34m,\u001b[0m\u001b[0mnum_classes\u001b[0m\u001b[0;34m)\u001b[0m\u001b[0;34m\u001b[0m\u001b[0;34m\u001b[0m\u001b[0m\n\u001b[0m\u001b[1;32m    180\u001b[0m \u001b[0;34m\u001b[0m\u001b[0m\n\u001b[1;32m    181\u001b[0m         \u001b[0mnode\u001b[0m\u001b[0;34m[\u001b[0m\u001b[0;34mf'left {max_Info_gain}'\u001b[0m\u001b[0;34m]\u001b[0m \u001b[0;34m=\u001b[0m \u001b[0mnode_left\u001b[0m\u001b[0;34m\u001b[0m\u001b[0;34m\u001b[0m\u001b[0m\n",
      "\u001b[0;32m~/PycharmProjects/hw1/decision_tree.py\u001b[0m in \u001b[0;36mrecursive_tree_train\u001b[0;34m(data, labels, depth, max_depth, num_classes)\u001b[0m\n\u001b[1;32m    136\u001b[0m     \u001b[0;32mfor\u001b[0m \u001b[0mi\u001b[0m \u001b[0;32min\u001b[0m \u001b[0mlabels\u001b[0m\u001b[0;34m:\u001b[0m\u001b[0;34m\u001b[0m\u001b[0;34m\u001b[0m\u001b[0m\n\u001b[1;32m    137\u001b[0m         \u001b[0;32mfor\u001b[0m \u001b[0mj\u001b[0m \u001b[0;32min\u001b[0m \u001b[0mrange\u001b[0m\u001b[0;34m(\u001b[0m\u001b[0mlen\u001b[0m\u001b[0;34m(\u001b[0m\u001b[0mlabels\u001b[0m\u001b[0;34m)\u001b[0m\u001b[0;34m)\u001b[0m\u001b[0;34m:\u001b[0m\u001b[0;34m\u001b[0m\u001b[0;34m\u001b[0m\u001b[0m\n\u001b[0;32m--> 138\u001b[0;31m             \u001b[0;32mif\u001b[0m \u001b[0mi\u001b[0m \u001b[0;34m==\u001b[0m \u001b[0mj\u001b[0m\u001b[0;34m:\u001b[0m\u001b[0;34m\u001b[0m\u001b[0;34m\u001b[0m\u001b[0m\n\u001b[0m\u001b[1;32m    139\u001b[0m                 \u001b[0mcount\u001b[0m\u001b[0;34m[\u001b[0m\u001b[0;36m0\u001b[0m\u001b[0;34m,\u001b[0m\u001b[0mj\u001b[0m\u001b[0;34m]\u001b[0m\u001b[0;34m+=\u001b[0m\u001b[0;36m1\u001b[0m\u001b[0;34m\u001b[0m\u001b[0;34m\u001b[0m\u001b[0m\n\u001b[1;32m    140\u001b[0m     \u001b[0;31m#print('n',len(labels))\u001b[0m\u001b[0;34m\u001b[0m\u001b[0;34m\u001b[0m\u001b[0;34m\u001b[0m\u001b[0m\n",
      "\u001b[0;31mKeyboardInterrupt\u001b[0m: "
     ]
    }
   ],
   "source": [
    "# Try decision tree with hard-coded maximum depth\n",
    "\n",
    "dt_params = { 'max_depth': 16 }\n",
    "\n",
    "dt_model = decision_tree_train(train_data, train_labels, dt_params)\n",
    "\n",
    "\n"
   ]
  },
  {
   "cell_type": "code",
   "execution_count": null,
   "metadata": {
    "scrolled": false
   },
   "outputs": [],
   "source": [
    "# Compute training accuracy_testing\n",
    "\n",
    "dt_train_predictions = predict_points(train_data, dt_model)\n",
    "                                \n",
    "dt_train_accuracy = np.mean(dt_train_predictions == train_labels)\n",
    "#print(dt_train_predictions[:20])\n",
    "#print('len_train_pred',len(dt_train_predictions))\n",
    "#print('train_lb',train_labels)\n",
    "\n",
    "                           \n",
    "#print('len_train_lb',len(train_labels))\n",
    "print(\"Decision tree training accuracy: %f\" % dt_train_accuracy)"
   ]
  },
  {
   "cell_type": "code",
   "execution_count": null,
   "metadata": {},
   "outputs": [],
   "source": [
    "# Compute training accuracy\n",
    "\n",
    "dt_train_predictions = decision_tree_predict(train_data, dt_model)\n",
    "                                \n",
    "dt_train_accuracy = np.mean(dt_train_predictions == train_labels)\n",
    "\n",
    "print(\"Decision tree training accuracy: %f\" % dt_train_accuracy)"
   ]
  },
  {
   "cell_type": "code",
   "execution_count": null,
   "metadata": {
    "pycharm": {
     "is_executing": false
    }
   },
   "outputs": [],
   "source": [
    "# Compute testing accuracy\n",
    "\n",
    "dt_test_predictions = decision_tree_predict(test_data, dt_model)\n",
    "                                \n",
    "dt_test_accuracy = np.mean(dt_test_predictions == test_labels)\n",
    "\n",
    "print(\"Decision tree testing accuracy: %f\" % dt_test_accuracy)"
   ]
  },
  {
   "cell_type": "code",
   "execution_count": 36,
   "metadata": {},
   "outputs": [
    {
     "data": {
      "text/plain": [
       "'/Users/Georgia 1/PycharmProjects/hw1'"
      ]
     },
     "execution_count": 36,
     "metadata": {},
     "output_type": "execute_result"
    }
   ],
   "source": [
    "pwd"
   ]
  },
  {
   "cell_type": "code",
   "execution_count": null,
   "metadata": {},
   "outputs": [],
   "source": []
  }
 ],
 "metadata": {
  "anaconda-cloud": {},
  "kernelspec": {
   "display_name": "Python 3",
   "language": "python",
   "name": "python3"
  },
  "language_info": {
   "codemirror_mode": {
    "name": "ipython",
    "version": 3
   },
   "file_extension": ".py",
   "mimetype": "text/x-python",
   "name": "python",
   "nbconvert_exporter": "python",
   "pygments_lexer": "ipython3",
   "version": "3.7.4"
  }
 },
 "nbformat": 4,
 "nbformat_minor": 1
}
